{
  "nbformat": 4,
  "nbformat_minor": 0,
  "metadata": {
    "colab": {
      "provenance": []
    },
    "kernelspec": {
      "name": "python3",
      "display_name": "Python 3"
    },
    "language_info": {
      "name": "python"
    }
  },
  "cells": [
    {
      "cell_type": "code",
      "execution_count": 43,
      "metadata": {
        "colab": {
          "base_uri": "https://localhost:8080/"
        },
        "id": "cDPoW8DSgiYV",
        "outputId": "b73a98dc-86d6-4c80-a5d9-137920b635f7"
      },
      "outputs": [
        {
          "output_type": "stream",
          "name": "stdout",
          "text": [
            "--2023-01-14 07:26:15--  https://drive.google.com/file/d/1FFUpt0oQS1TeUQNCTl3UxliIk4zwMNz-/view?usp=sharing\n",
            "Resolving drive.google.com (drive.google.com)... 172.217.218.113, 172.217.218.100, 172.217.218.101, ...\n",
            "Connecting to drive.google.com (drive.google.com)|172.217.218.113|:443... connected.\n",
            "HTTP request sent, awaiting response... 200 OK\n",
            "Length: unspecified [text/html]\n",
            "Saving to: ‘/tmp/TUBES’\n",
            "\n",
            "/tmp/TUBES              [ <=>                ]  71.60K  --.-KB/s    in 0.01s   \n",
            "\n",
            "2023-01-14 07:26:16 (6.79 MB/s) - ‘/tmp/TUBES’ saved [73318]\n",
            "\n",
            "--2023-01-14 07:26:16--  http://ai.zip/\n",
            "Resolving ai.zip (ai.zip)... failed: Name or service not known.\n",
            "wget: unable to resolve host address ‘ai.zip’\n",
            "FINISHED --2023-01-14 07:26:16--\n",
            "Total wall clock time: 0.4s\n",
            "Downloaded: 1 files, 72K in 0.01s (6.79 MB/s)\n"
          ]
        }
      ],
      "source": [
        "# Download dataset\n",
        "!wget --no-check-certificate \\\n",
        "  https://drive.google.com/file/d/1FFUpt0oQS1TeUQNCTl3UxliIk4zwMNz-/view?usp=sharing \\\n",
        "  -O /tmp/TUBES AI.zip"
      ]
    },
    {
      "cell_type": "code",
      "source": [
        "# Ekstrak dataset\n",
        "\n",
        "import os\n",
        "import zipfile\n",
        "from google.colab import drive\n",
        "\n",
        "drive.mount('/content/drive/')\n",
        "\n",
        "zip_ref = zipfile.ZipFile(\"/content/drive/My Drive/Colab Notebooks/Daun.zip\", 'r')\n",
        "zip_ref.extractall(\"/tmp\")\n",
        "zip_ref.close()\n",
        "# local_zip = '/tmp/Daun.zip'\n",
        "# zip_ref = zipfile.ZipFile(local_zip, 'r')\n",
        "# zip_ref.extractall('/tmp')\n",
        "# zip_ref.close()"
      ],
      "metadata": {
        "id": "Epebn6fOgq_p",
        "colab": {
          "base_uri": "https://localhost:8080/"
        },
        "outputId": "7b6c455d-30a7-4785-e4e5-c7f4b064c51d"
      },
      "execution_count": 44,
      "outputs": [
        {
          "output_type": "stream",
          "name": "stdout",
          "text": [
            "Drive already mounted at /content/drive/; to attempt to forcibly remount, call drive.mount(\"/content/drive/\", force_remount=True).\n"
          ]
        }
      ]
    },
    {
      "cell_type": "code",
      "source": [
        "# Definisikan path untuk data train dan data validation\n",
        "\n",
        "base_dir = '/tmp/TUBES AI'\n",
        "\n",
        "train_dir = os.path.join(base_dir, 'train')\n",
        "val_dir = os.path.join(base_dir, 'val')"
      ],
      "metadata": {
        "id": "8O3NS_k2gwWZ"
      },
      "execution_count": null,
      "outputs": []
    },
    {
      "cell_type": "code",
      "source": [
        "import cv2\n",
        "import numpy as np\n",
        "\n",
        "# Gather data train\n",
        "train_data = []\n",
        "train_label = []\n",
        "for r, d, f in os.walk(train_dir):\n",
        "    for file in f:\n",
        "        if \".jpg\" in file:\n",
        "            imagePath = os.path.join(r, file)\n",
        "            image = cv2.imread(imagePath)\n",
        "            image = cv2.resize(image, (150,150))\n",
        "            train_data.append(image)\n",
        "            label = imagePath.split(os.path.sep)[-2]\n",
        "            train_label.append(label)\n",
        "\n",
        "train_data = np.array(train_data)\n",
        "train_label = np.array(train_label)"
      ],
      "metadata": {
        "id": "3E4QQNNPg0J8"
      },
      "execution_count": 45,
      "outputs": []
    },
    {
      "cell_type": "code",
      "source": [
        "# Gather data validation\n",
        "val_data = []\n",
        "val_label = []\n",
        "for r, d, f in os.walk(val_dir):\n",
        "    for file in f:\n",
        "        if \".jpg\" in file:\n",
        "            imagePath = os.path.join(r, file)\n",
        "            image = cv2.imread(imagePath)\n",
        "            image = cv2.resize(image, (150,150))\n",
        "            val_data.append(image)\n",
        "            label = imagePath.split(os.path.sep)[-2]\n",
        "            val_label.append(label)\n",
        "\n",
        "val_data = np.array(val_data)\n",
        "val_label = np.array(val_label)"
      ],
      "metadata": {
        "id": "fOwDfZysg2qg"
      },
      "execution_count": 46,
      "outputs": []
    },
    {
      "cell_type": "code",
      "source": [
        "# Tampilkan shape dari data train dan data validation\n",
        "print(\"Train Data = \", train_data.shape)\n",
        "print(\"Train Label = \", train_label.shape)\n",
        "print(\"Validation Data = \", val_data.shape)\n",
        "print(\"Validation Label = \", val_label.shape)"
      ],
      "metadata": {
        "id": "UjKw2sK5g5Oc",
        "colab": {
          "base_uri": "https://localhost:8080/"
        },
        "outputId": "f973399f-40ad-4e5c-baa1-1f4d78df057e"
      },
      "execution_count": 47,
      "outputs": [
        {
          "output_type": "stream",
          "name": "stdout",
          "text": [
            "Train Data =  (518, 150, 150, 3)\n",
            "Train Label =  (518,)\n",
            "Validation Data =  (174, 150, 150, 3)\n",
            "Validation Label =  (174,)\n"
          ]
        }
      ]
    },
    {
      "cell_type": "code",
      "source": [
        "# Normalisasi dataset\n",
        "print(\"Data sebelum di-normalisasi \", train_data[0][0][0])\n",
        "\n",
        "x_train = train_data.astype('float32') / 255.0\n",
        "x_val = val_data.astype('float32') / 255.0\n",
        "print(\"Data setelah di-normalisasi \", x_train[0][0][0])"
      ],
      "metadata": {
        "id": "yCumr8_0g9Na",
        "colab": {
          "base_uri": "https://localhost:8080/"
        },
        "outputId": "eaae07f9-aec0-4aa4-86b1-589d3b540d07"
      },
      "execution_count": 48,
      "outputs": [
        {
          "output_type": "stream",
          "name": "stdout",
          "text": [
            "Data sebelum di-normalisasi  [255 255 255]\n",
            "Data setelah di-normalisasi  [1. 1. 1.]\n"
          ]
        }
      ]
    },
    {
      "cell_type": "code",
      "source": [
        "# Transformasi label encoder\n",
        "from sklearn.preprocessing import LabelEncoder\n",
        "\n",
        "print(\"Label sebelum di-encoder \", train_label[995:1005])\n",
        "\n",
        "lb = LabelEncoder()\n",
        "y_train = lb.fit_transform(train_label)\n",
        "y_val = lb.fit_transform(val_label)\n",
        "\n",
        "print(\"Label setelah di-encoder \", y_train[995:1005])"
      ],
      "metadata": {
        "id": "ZcayTxSgg_xk",
        "colab": {
          "base_uri": "https://localhost:8080/"
        },
        "outputId": "ffab77a0-1d84-4bba-b446-8c23ca4fb9e5"
      },
      "execution_count": 49,
      "outputs": [
        {
          "output_type": "stream",
          "name": "stdout",
          "text": [
            "Label sebelum di-encoder  []\n",
            "Label setelah di-encoder  []\n"
          ]
        }
      ]
    },
    {
      "cell_type": "markdown",
      "source": [
        "definisi model\n"
      ],
      "metadata": {
        "id": "phPA24FkhMz9"
      }
    },
    {
      "cell_type": "code",
      "source": [
        "from tensorflow.keras.models import Sequential\n",
        "from tensorflow.keras.layers import InputLayer, Dense, Conv2D, MaxPool2D, Flatten"
      ],
      "metadata": {
        "id": "p0bAowuhhCdb"
      },
      "execution_count": 50,
      "outputs": []
    },
    {
      "cell_type": "code",
      "source": [
        "# Feature Extraction Layer\n",
        "model = Sequential()\n",
        "\n",
        "model.add(InputLayer(input_shape=[150,150,3]))\n",
        "model.add(Conv2D(filters=16, kernel_size=3, strides=1, padding='same', activation='relu'))\n",
        "model.add(MaxPool2D(pool_size=2, padding='same'))\n",
        "model.add(Conv2D(filters=32, kernel_size=3, strides=1, padding='same', activation='relu'))\n",
        "model.add(MaxPool2D(pool_size=2, padding='same'))\n",
        "model.add(Conv2D(filters=64, kernel_size=3, strides=1, padding='same', activation='relu'))\n",
        "model.add(MaxPool2D(pool_size=2, padding='same'))\n",
        "model.add(Flatten())"
      ],
      "metadata": {
        "id": "xacFuvkQhdlv"
      },
      "execution_count": 51,
      "outputs": []
    },
    {
      "cell_type": "code",
      "source": [
        "# Fully Connected Layer\n",
        "model.add(Dense(128, activation='relu'))\n",
        "model.add(Dense(1, activation='sigmoid'))"
      ],
      "metadata": {
        "id": "ut7crpEih08Y"
      },
      "execution_count": 52,
      "outputs": []
    },
    {
      "cell_type": "code",
      "source": [
        "# Print model summary\n",
        "print(model.summary())"
      ],
      "metadata": {
        "id": "5ZMVm4xIh3XO",
        "colab": {
          "base_uri": "https://localhost:8080/"
        },
        "outputId": "a2cf0505-bb48-4db9-c1bc-fcccad4dad03"
      },
      "execution_count": 53,
      "outputs": [
        {
          "output_type": "stream",
          "name": "stdout",
          "text": [
            "Model: \"sequential_2\"\n",
            "_________________________________________________________________\n",
            " Layer (type)                Output Shape              Param #   \n",
            "=================================================================\n",
            " conv2d_6 (Conv2D)           (None, 150, 150, 16)      448       \n",
            "                                                                 \n",
            " max_pooling2d_6 (MaxPooling  (None, 75, 75, 16)       0         \n",
            " 2D)                                                             \n",
            "                                                                 \n",
            " conv2d_7 (Conv2D)           (None, 75, 75, 32)        4640      \n",
            "                                                                 \n",
            " max_pooling2d_7 (MaxPooling  (None, 38, 38, 32)       0         \n",
            " 2D)                                                             \n",
            "                                                                 \n",
            " conv2d_8 (Conv2D)           (None, 38, 38, 64)        18496     \n",
            "                                                                 \n",
            " max_pooling2d_8 (MaxPooling  (None, 19, 19, 64)       0         \n",
            " 2D)                                                             \n",
            "                                                                 \n",
            " flatten_2 (Flatten)         (None, 23104)             0         \n",
            "                                                                 \n",
            " dense_4 (Dense)             (None, 128)               2957440   \n",
            "                                                                 \n",
            " dense_5 (Dense)             (None, 1)                 129       \n",
            "                                                                 \n",
            "=================================================================\n",
            "Total params: 2,981,153\n",
            "Trainable params: 2,981,153\n",
            "Non-trainable params: 0\n",
            "_________________________________________________________________\n",
            "None\n"
          ]
        }
      ]
    },
    {
      "cell_type": "code",
      "source": [
        "# Compile model\n",
        "from tensorflow.keras.optimizers import Adam\n",
        "\n",
        "model.compile(optimizer=Adam(lr=0.001), \n",
        "              loss='binary_crossentropy', \n",
        "              metrics=['acc'])"
      ],
      "metadata": {
        "id": "PCk0Xgkvh5t3",
        "colab": {
          "base_uri": "https://localhost:8080/"
        },
        "outputId": "57be798e-ccdd-49ff-e6d6-6d5b1857b521"
      },
      "execution_count": 54,
      "outputs": [
        {
          "output_type": "stream",
          "name": "stderr",
          "text": [
            "/usr/local/lib/python3.8/dist-packages/keras/optimizers/optimizer_v2/adam.py:110: UserWarning: The `lr` argument is deprecated, use `learning_rate` instead.\n",
            "  super(Adam, self).__init__(name, **kwargs)\n"
          ]
        }
      ]
    },
    {
      "cell_type": "code",
      "source": [
        "H = model.fit(x_train, y_train, batch_size=20, epochs=15, validation_data=(x_val, y_val))"
      ],
      "metadata": {
        "id": "d1wsPCQWh8Pq",
        "colab": {
          "base_uri": "https://localhost:8080/"
        },
        "outputId": "d2fd50ef-87d9-46ea-de7b-22f7d41083fc"
      },
      "execution_count": 55,
      "outputs": [
        {
          "output_type": "stream",
          "name": "stdout",
          "text": [
            "Epoch 1/15\n",
            "26/26 [==============================] - 11s 407ms/step - loss: 0.8143 - acc: 0.7220 - val_loss: 0.3369 - val_acc: 0.9713\n",
            "Epoch 2/15\n",
            "26/26 [==============================] - 10s 399ms/step - loss: 0.1634 - acc: 0.9614 - val_loss: 0.0645 - val_acc: 0.9770\n",
            "Epoch 3/15\n",
            "26/26 [==============================] - 10s 387ms/step - loss: 0.0574 - acc: 0.9826 - val_loss: 0.0346 - val_acc: 0.9828\n",
            "Epoch 4/15\n",
            "26/26 [==============================] - 10s 386ms/step - loss: 0.0256 - acc: 0.9903 - val_loss: 0.0226 - val_acc: 0.9943\n",
            "Epoch 5/15\n",
            "26/26 [==============================] - 10s 389ms/step - loss: 0.0205 - acc: 0.9981 - val_loss: 0.0145 - val_acc: 0.9943\n",
            "Epoch 6/15\n",
            "26/26 [==============================] - 10s 387ms/step - loss: 0.0110 - acc: 0.9942 - val_loss: 0.0165 - val_acc: 0.9943\n",
            "Epoch 7/15\n",
            "26/26 [==============================] - 10s 386ms/step - loss: 0.0086 - acc: 0.9961 - val_loss: 0.0086 - val_acc: 0.9943\n",
            "Epoch 8/15\n",
            "26/26 [==============================] - 10s 388ms/step - loss: 0.0062 - acc: 0.9981 - val_loss: 0.0055 - val_acc: 1.0000\n",
            "Epoch 9/15\n",
            "26/26 [==============================] - 10s 389ms/step - loss: 0.0037 - acc: 0.9981 - val_loss: 0.0152 - val_acc: 0.9943\n",
            "Epoch 10/15\n",
            "26/26 [==============================] - 10s 395ms/step - loss: 9.8160e-04 - acc: 1.0000 - val_loss: 0.0113 - val_acc: 0.9943\n",
            "Epoch 11/15\n",
            "26/26 [==============================] - 12s 459ms/step - loss: 7.5785e-04 - acc: 1.0000 - val_loss: 0.0021 - val_acc: 1.0000\n",
            "Epoch 12/15\n",
            "26/26 [==============================] - 11s 427ms/step - loss: 2.2863e-04 - acc: 1.0000 - val_loss: 0.0019 - val_acc: 1.0000\n",
            "Epoch 13/15\n",
            "26/26 [==============================] - 11s 407ms/step - loss: 4.4880e-05 - acc: 1.0000 - val_loss: 8.7393e-04 - val_acc: 1.0000\n",
            "Epoch 14/15\n",
            "26/26 [==============================] - 11s 417ms/step - loss: 3.8873e-05 - acc: 1.0000 - val_loss: 0.0010 - val_acc: 1.0000\n",
            "Epoch 15/15\n",
            "26/26 [==============================] - 11s 420ms/step - loss: 3.4289e-05 - acc: 1.0000 - val_loss: 0.0012 - val_acc: 1.0000\n"
          ]
        }
      ]
    },
    {
      "cell_type": "markdown",
      "source": [
        "evalusai model\n"
      ],
      "metadata": {
        "id": "yIN4NjSQiC2P"
      }
    },
    {
      "cell_type": "code",
      "source": [
        "%matplotlib inline\n",
        "\n",
        "import matplotlib.pyplot as plt\n",
        "\n",
        "plt.style.use(\"ggplot\")\n",
        "plt.figure()\n",
        "plt.plot(np.arange(0, 15), H.history[\"loss\"], label=\"train_loss\")\n",
        "plt.plot(np.arange(0, 15), H.history[\"val_loss\"], label=\"val_loss\")\n",
        "plt.title(\"Loss Plot\")\n",
        "plt.xlabel(\"Epoch #\")\n",
        "plt.ylabel(\"Loss\")\n",
        "plt.legend()\n",
        "plt.show()"
      ],
      "metadata": {
        "id": "0kBSDUbIh_82",
        "colab": {
          "base_uri": "https://localhost:8080/",
          "height": 299
        },
        "outputId": "7b01adb5-bfaa-4399-cb07-2dce55371d1a"
      },
      "execution_count": 56,
      "outputs": [
        {
          "output_type": "display_data",
          "data": {
            "text/plain": [
              "<Figure size 432x288 with 1 Axes>"
            ],
            "image/png": "[encoded data removed]"
          },
          "metadata": {}
        }
      ]
    },
    {
      "cell_type": "code",
      "source": [
        "plt.style.use(\"ggplot\")\n",
        "plt.figure()\n",
        "plt.plot(np.arange(0, 15), H.history[\"acc\"], label=\"train_acc\")\n",
        "plt.plot(np.arange(0, 15), H.history[\"val_acc\"], label=\"val_acc\")\n",
        "plt.title(\"Accuracy Plot\")\n",
        "plt.xlabel(\"Epoch #\")\n",
        "plt.ylabel(\"Acc\")\n",
        "plt.legend()\n",
        "plt.show()"
      ],
      "metadata": {
        "id": "ieOWhTnriIdk",
        "colab": {
          "base_uri": "https://localhost:8080/",
          "height": 299
        },
        "outputId": "47fc3c6c-b711-4c63-d77a-ae4e256ecf22"
      },
      "execution_count": 57,
      "outputs": [
        {
          "output_type": "display_data",
          "data": {
            "text/plain": [
              "<Figure size 432x288 with 1 Axes>"
            ],
            "image/png": "[encoded data removed]"
          },
          "metadata": {}
        }
      ]
    },
    {
      "cell_type": "code",
      "source": [
        "from sklearn.metrics import classification_report\n",
        "\n",
        "pred = model.predict(x_val)\n",
        "labels = (pred > 0.5).astype(np.int)\n",
        "\n",
        "print(classification_report(y_val, labels))"
      ],
      "metadata": {
        "id": "FGGWBJyPiLAN",
        "colab": {
          "base_uri": "https://localhost:8080/"
        },
        "outputId": "586a794b-2b00-4ecc-acc8-098c2016325d"
      },
      "execution_count": 58,
      "outputs": [
        {
          "output_type": "stream",
          "name": "stdout",
          "text": [
            "6/6 [==============================] - 2s 317ms/step\n",
            "              precision    recall  f1-score   support\n",
            "\n",
            "           0       1.00      1.00      1.00        87\n",
            "           1       1.00      1.00      1.00        87\n",
            "\n",
            "    accuracy                           1.00       174\n",
            "   macro avg       1.00      1.00      1.00       174\n",
            "weighted avg       1.00      1.00      1.00       174\n",
            "\n"
          ]
        },
        {
          "output_type": "stream",
          "name": "stderr",
          "text": [
            "<ipython-input-58-740d17bcb613>:4: DeprecationWarning: `np.int` is a deprecated alias for the builtin `int`. To silence this warning, use `int` by itself. Doing this will not modify any behavior and is safe. When replacing `np.int`, you may wish to use e.g. `np.int64` or `np.int32` to specify the precision. If you wish to review your current use, check the release note link for additional information.\n",
            "Deprecated in NumPy 1.20; for more details and guidance: https://numpy.org/devdocs/release/1.20.0-notes.html#deprecations\n",
            "  labels = (pred > 0.5).astype(np.int)\n"
          ]
        }
      ]
    }
  ]
}